{
 "cells": [
  {
   "cell_type": "markdown",
   "id": "3775908f-ca36-4846-8f38-5adca39217f2",
   "metadata": {
    "collapsed": false,
    "name": "intro"
   },
   "source": [
    "# AI Powered Query Profile and Recommendations Notbook\n",
    "This notebook takes query profile data from the Snowflake get_query_operator_stats function and uses Snowflake's Cortex-powered SQL functions to describe the query execution plan, identify plan bottlenecks, and propose query and workload optimizations that might result in improved performance.\n",
    "\n",
    "## Before Starting\n",
    "Go to the query history page in Snowflake, find the query you are interested in, and copy the query_id. In the rest of this notebook you will need to replace \"<query_id>\" in the \"Notebook Settings\" panel with the copied query_id from query history."
   ]
  },
  {
   "cell_type": "code",
   "execution_count": null,
   "id": "8d50cbf4-0c8d-4950-86cb-114990437ac9",
   "metadata": {
    "collapsed": false,
    "language": "sql",
    "name": "setting_panel"
   },
   "outputs": [],
   "source": [
    "-- NOTEBOOK SETTINGS PANEL\n",
    "-- Sets the query ID for your session\n",
    "\n",
    "SET query_id='xxx-111-ffdf-4532-vsdf';"
   ]
  },
  {
   "cell_type": "code",
   "execution_count": null,
   "id": "c695373e-ac74-4b62-a1f1-08206cbd5c81",
   "metadata": {
    "collapsed": false,
    "language": "sql",
    "name": "tabular_output"
   },
   "outputs": [],
   "source": [
    "-- TABULAR OUTPUT PANEL\n",
    "-- This panel generates the standard tabular output of get_query_operator_stats\n",
    "\n",
    "SELECT * FROM TABLE(GET_QUERY_OPERATOR_STATS($query_id));"
   ]
  },
  {
   "cell_type": "code",
   "execution_count": null,
   "id": "c472c514-cd62-428d-893b-7e7733bc052a",
   "metadata": {
    "collapsed": false,
    "language": "python",
    "name": "ai_powered_profile"
   },
   "outputs": [],
   "source": [
    "## AI POWERED PROFILE OUTPUT PANEL\n",
    "## This panel generates an AI powered description of get_query_operator_stats\n",
    "\n",
    "from snowflake.snowpark.context import get_active_session\n",
    "session = get_active_session()\n",
    "\n",
    "df = session.sql(\"\"\"\n",
    "WITH payload\n",
    "     AS (SELECT Concat('STEP:', step_id, '|OPERATOR_ID', operator_id,\n",
    "                '|OPERATOR_STATS',\n",
    "                           operator_statistics, '|OPERATOR_TIME_DETAILS',\n",
    "                           execution_time_breakdown, '|OPERATOR_TIME_ATTRIBUTES'\n",
    "                ,\n",
    "                           operator_attributes) AS operator_stats\n",
    "         FROM   TABLE (Get_query_operator_stats(\n",
    "                       $query_id)))\n",
    "SELECT snowflake.cortex.Complete('claude-3-5-sonnet', Concat(\n",
    "'Describe in detail the query plan, time taken in each step, and operators from this snowflake query_opeartor_stats oayload: <payload>'\n",
    ", Listagg(operator_stats, ', ')\n",
    "within GROUP (ORDER BY operator_stats), '</payload>'))\n",
    "FROM   payload; \n",
    "\"\"\").to_pandas()\n",
    "\n",
    "print(df.iloc[0,0])"
   ]
  },
  {
   "cell_type": "code",
   "execution_count": null,
   "id": "890c07c4-f8bb-4e4e-ba0c-6f2b3be3a8bf",
   "metadata": {
    "collapsed": false,
    "language": "python",
    "name": "ai_powered_recommendations"
   },
   "outputs": [],
   "source": [
    "## AI POWERED RECOMMENDATIONS OUTPUT PANEL\n",
    "## This panel generates an AI powered recommendations based on the query profile\n",
    "\n",
    "from snowflake.snowpark.context import get_active_session\n",
    "session = get_active_session()\n",
    "\n",
    "df = session.sql(\"\"\"\n",
    "WITH payload\n",
    "     AS (SELECT Concat('STEP:', step_id, '|OPERATOR_ID', operator_id,\n",
    "                '|OPERATOR_STATS',\n",
    "                           operator_statistics, '|OPERATOR_TIME_DETAILS',\n",
    "                           execution_time_breakdown, '|OPERATOR_TIME_ATTRIBUTES'\n",
    "                ,\n",
    "                           operator_attributes) AS operator_stats\n",
    "         FROM   TABLE (Get_query_operator_stats(\n",
    "                       '01b9e8db-080e-ba09-0001-dd42cd913407')))\n",
    "SELECT snowflake.cortex.Complete('claude-3-5-sonnet', Concat(\n",
    "'How could I improve the performance of this query, based on the payload from this snowflake query_opeartor_stats response. Specifically, how might I use clustering, Query Acceleration Service, or Search Optimization. Also, could I rewrite the query - make sure to use Snowflake compatible SQl syntax?: <payload>'\n",
    ", Listagg(operator_stats, ', ')\n",
    "within GROUP (ORDER BY operator_stats), '</payload>'))\n",
    "FROM   payload;\n",
    "\"\"\").to_pandas()\n",
    "\n",
    "print(df.iloc[0,0])"
   ]
  }
 ],
 "metadata": {
  "kernelspec": {
   "display_name": "Streamlit Notebook",
   "name": "streamlit"
  },
  "lastEditStatus": {
   "authorEmail": "josh.klahr@snowflake.com",
   "authorId": "365171685844",
   "authorName": "JKLAHR",
   "lastEditTime": 1737787079122,
   "notebookId": "yxdqdnohxzq36yhyunau",
   "sessionId": "096ef6a5-0fe5-4dcd-bbb7-8f12f74af837"
  }
 },
 "nbformat": 4,
 "nbformat_minor": 5
}
